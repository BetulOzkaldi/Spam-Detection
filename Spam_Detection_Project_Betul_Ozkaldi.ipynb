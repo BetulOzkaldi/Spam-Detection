{
 "cells": [
  {
   "cell_type": "markdown",
   "id": "e28333c0",
   "metadata": {},
   "source": [
    "# Spam Detection Project\n",
    "- In this detection project,the aim is to develop model that can automatically identify and filter out spam content on the YouTube platform.  \n",
    "\n",
    "This project prepared by Betul Ozkaldi.\n"
   ]
  },
  {
   "cell_type": "markdown",
   "id": "363e72f7",
   "metadata": {},
   "source": [
    "## Libraries"
   ]
  },
  {
   "cell_type": "code",
   "execution_count": 1,
   "id": "fe367849",
   "metadata": {},
   "outputs": [],
   "source": [
    "import pandas as pd\n",
    "import numpy as np\n",
    "from collections import Counter\n",
    "import matplotlib.pyplot as plt"
   ]
  },
  {
   "cell_type": "code",
   "execution_count": 2,
   "id": "f28fa3ae",
   "metadata": {},
   "outputs": [],
   "source": [
    "from sklearn.model_selection import train_test_split, cross_val_score"
   ]
  },
  {
   "cell_type": "code",
   "execution_count": 3,
   "id": "43a9b0c8",
   "metadata": {},
   "outputs": [],
   "source": [
    "from sklearn.feature_extraction.text import CountVectorizer, TfidfVectorizer\n",
    "from sklearn.decomposition import LatentDirichletAllocation as LDA"
   ]
  },
  {
   "cell_type": "code",
   "execution_count": 5,
   "id": "e5e521d5",
   "metadata": {},
   "outputs": [],
   "source": [
    "from yellowbrick.classifier import ConfusionMatrix"
   ]
  },
  {
   "cell_type": "code",
   "execution_count": 6,
   "id": "0e09314e",
   "metadata": {},
   "outputs": [],
   "source": [
    "from xgboost import XGBClassifier\n",
    "from sklearn.linear_model import LogisticRegression\n",
    "import spacy\n",
    "import nltk "
   ]
  },
  {
   "cell_type": "code",
   "execution_count": 4,
   "id": "ecb1b3c8",
   "metadata": {},
   "outputs": [],
   "source": [
    "#pip install yellowbrick --user"
   ]
  },
  {
   "cell_type": "markdown",
   "id": "6c0c8e92",
   "metadata": {},
   "source": [
    "## Dataset"
   ]
  },
  {
   "cell_type": "markdown",
   "id": "a665ad24",
   "metadata": {},
   "source": [
    "It is a public set of comments collected for spam research. It has five datasets composed by 1 and it has 1956 real messages extracted from videos that were among the 10 most viewed on the collection period.  \n",
    "- https://archive.ics.uci.edu/dataset/380/youtube+spam+collection"
   ]
  },
  {
   "cell_type": "code",
   "execution_count": 7,
   "id": "608c8b9e",
   "metadata": {},
   "outputs": [],
   "source": [
    "df_eminem =pd.read_csv('C:/Users/btloz/JupyterNotes/module9/Eminem.csv')\n",
    "df_kp =pd.read_csv('C:/Users/btloz/JupyterNotes/module9/KatyPerry.csv')\n",
    "df_lmfao = pd.read_csv('C:/Users/btloz/JupyterNotes/module9/LMFAO.csv')\n",
    "df_shakira = pd.read_csv('C:/Users/btloz/JupyterNotes/module9/Shakira.csv')\n",
    "df_psy = pd.read_csv('C:/Users/btloz/JupyterNotes/module9/psy.csv')"
   ]
  },
  {
   "cell_type": "code",
   "execution_count": 8,
   "id": "2d38230c",
   "metadata": {},
   "outputs": [
    {
     "data": {
      "text/html": [
       "<div>\n",
       "<style scoped>\n",
       "    .dataframe tbody tr th:only-of-type {\n",
       "        vertical-align: middle;\n",
       "    }\n",
       "\n",
       "    .dataframe tbody tr th {\n",
       "        vertical-align: top;\n",
       "    }\n",
       "\n",
       "    .dataframe thead th {\n",
       "        text-align: right;\n",
       "    }\n",
       "</style>\n",
       "<table border=\"1\" class=\"dataframe\">\n",
       "  <thead>\n",
       "    <tr style=\"text-align: right;\">\n",
       "      <th></th>\n",
       "      <th>COMMENT_ID</th>\n",
       "      <th>AUTHOR</th>\n",
       "      <th>DATE</th>\n",
       "      <th>CONTENT</th>\n",
       "      <th>CLASS</th>\n",
       "    </tr>\n",
       "  </thead>\n",
       "  <tbody>\n",
       "    <tr>\n",
       "      <th>0</th>\n",
       "      <td>z12rwfnyyrbsefonb232i5ehdxzkjzjs2</td>\n",
       "      <td>Lisa Wellas</td>\n",
       "      <td>NaN</td>\n",
       "      <td>+447935454150 lovely girl talk to me xxx﻿</td>\n",
       "      <td>1</td>\n",
       "    </tr>\n",
       "    <tr>\n",
       "      <th>1</th>\n",
       "      <td>z130wpnwwnyuetxcn23xf5k5ynmkdpjrj04</td>\n",
       "      <td>jason graham</td>\n",
       "      <td>2015-05-29T02:26:10.652000</td>\n",
       "      <td>I always end up coming back to this song&lt;br /&gt;﻿</td>\n",
       "      <td>0</td>\n",
       "    </tr>\n",
       "    <tr>\n",
       "      <th>2</th>\n",
       "      <td>z13vsfqirtavjvu0t22ezrgzyorwxhpf3</td>\n",
       "      <td>Ajkal Khan</td>\n",
       "      <td>NaN</td>\n",
       "      <td>my sister just received over 6,500 new &lt;a rel=...</td>\n",
       "      <td>1</td>\n",
       "    </tr>\n",
       "    <tr>\n",
       "      <th>3</th>\n",
       "      <td>z12wjzc4eprnvja4304cgbbizuved35wxcs</td>\n",
       "      <td>Dakota Taylor</td>\n",
       "      <td>2015-05-29T02:13:07.810000</td>\n",
       "      <td>Cool﻿</td>\n",
       "      <td>0</td>\n",
       "    </tr>\n",
       "    <tr>\n",
       "      <th>4</th>\n",
       "      <td>z13xjfr42z3uxdz2223gx5rrzs3dt5hna</td>\n",
       "      <td>Jihad Naser</td>\n",
       "      <td>NaN</td>\n",
       "      <td>Hello I&amp;#39;am from Palastine﻿</td>\n",
       "      <td>1</td>\n",
       "    </tr>\n",
       "  </tbody>\n",
       "</table>\n",
       "</div>"
      ],
      "text/plain": [
       "                            COMMENT_ID         AUTHOR  \\\n",
       "0    z12rwfnyyrbsefonb232i5ehdxzkjzjs2    Lisa Wellas   \n",
       "1  z130wpnwwnyuetxcn23xf5k5ynmkdpjrj04   jason graham   \n",
       "2    z13vsfqirtavjvu0t22ezrgzyorwxhpf3     Ajkal Khan   \n",
       "3  z12wjzc4eprnvja4304cgbbizuved35wxcs  Dakota Taylor   \n",
       "4    z13xjfr42z3uxdz2223gx5rrzs3dt5hna    Jihad Naser   \n",
       "\n",
       "                         DATE  \\\n",
       "0                         NaN   \n",
       "1  2015-05-29T02:26:10.652000   \n",
       "2                         NaN   \n",
       "3  2015-05-29T02:13:07.810000   \n",
       "4                         NaN   \n",
       "\n",
       "                                             CONTENT  CLASS  \n",
       "0          +447935454150 lovely girl talk to me xxx﻿      1  \n",
       "1    I always end up coming back to this song<br />﻿      0  \n",
       "2  my sister just received over 6,500 new <a rel=...      1  \n",
       "3                                              Cool﻿      0  \n",
       "4                     Hello I&#39;am from Palastine﻿      1  "
      ]
     },
     "execution_count": 8,
     "metadata": {},
     "output_type": "execute_result"
    }
   ],
   "source": [
    "df_eminem.head()"
   ]
  },
  {
   "cell_type": "code",
   "execution_count": 10,
   "id": "70316bc2",
   "metadata": {},
   "outputs": [
    {
     "data": {
      "text/plain": [
       "CLASS\n",
       "1    245\n",
       "0    203\n",
       "Name: count, dtype: int64"
      ]
     },
     "execution_count": 10,
     "metadata": {},
     "output_type": "execute_result"
    }
   ],
   "source": [
    "#I checked the class labesl for target from documents \n",
    "df_eminem.CLASS.value_counts()"
   ]
  },
  {
   "cell_type": "markdown",
   "id": "91a59287",
   "metadata": {},
   "source": [
    "**Spam : 1**  \n",
    "**Ham  : 0**"
   ]
  },
  {
   "cell_type": "markdown",
   "id": "68322982",
   "metadata": {},
   "source": [
    "## Concatenating Data"
   ]
  },
  {
   "cell_type": "code",
   "execution_count": 11,
   "id": "e8f16c96",
   "metadata": {},
   "outputs": [
    {
     "data": {
      "text/html": [
       "<div>\n",
       "<style scoped>\n",
       "    .dataframe tbody tr th:only-of-type {\n",
       "        vertical-align: middle;\n",
       "    }\n",
       "\n",
       "    .dataframe tbody tr th {\n",
       "        vertical-align: top;\n",
       "    }\n",
       "\n",
       "    .dataframe thead th {\n",
       "        text-align: right;\n",
       "    }\n",
       "</style>\n",
       "<table border=\"1\" class=\"dataframe\">\n",
       "  <thead>\n",
       "    <tr style=\"text-align: right;\">\n",
       "      <th></th>\n",
       "      <th>COMMENT_ID</th>\n",
       "      <th>AUTHOR</th>\n",
       "      <th>DATE</th>\n",
       "      <th>CONTENT</th>\n",
       "      <th>CLASS</th>\n",
       "    </tr>\n",
       "  </thead>\n",
       "  <tbody>\n",
       "    <tr>\n",
       "      <th>0</th>\n",
       "      <td>z12rwfnyyrbsefonb232i5ehdxzkjzjs2</td>\n",
       "      <td>Lisa Wellas</td>\n",
       "      <td>NaN</td>\n",
       "      <td>+447935454150 lovely girl talk to me xxx﻿</td>\n",
       "      <td>1</td>\n",
       "    </tr>\n",
       "    <tr>\n",
       "      <th>1</th>\n",
       "      <td>z130wpnwwnyuetxcn23xf5k5ynmkdpjrj04</td>\n",
       "      <td>jason graham</td>\n",
       "      <td>2015-05-29T02:26:10.652000</td>\n",
       "      <td>I always end up coming back to this song&lt;br /&gt;﻿</td>\n",
       "      <td>0</td>\n",
       "    </tr>\n",
       "    <tr>\n",
       "      <th>2</th>\n",
       "      <td>z13vsfqirtavjvu0t22ezrgzyorwxhpf3</td>\n",
       "      <td>Ajkal Khan</td>\n",
       "      <td>NaN</td>\n",
       "      <td>my sister just received over 6,500 new &lt;a rel=...</td>\n",
       "      <td>1</td>\n",
       "    </tr>\n",
       "    <tr>\n",
       "      <th>3</th>\n",
       "      <td>z12wjzc4eprnvja4304cgbbizuved35wxcs</td>\n",
       "      <td>Dakota Taylor</td>\n",
       "      <td>2015-05-29T02:13:07.810000</td>\n",
       "      <td>Cool﻿</td>\n",
       "      <td>0</td>\n",
       "    </tr>\n",
       "    <tr>\n",
       "      <th>4</th>\n",
       "      <td>z13xjfr42z3uxdz2223gx5rrzs3dt5hna</td>\n",
       "      <td>Jihad Naser</td>\n",
       "      <td>NaN</td>\n",
       "      <td>Hello I&amp;#39;am from Palastine﻿</td>\n",
       "      <td>1</td>\n",
       "    </tr>\n",
       "    <tr>\n",
       "      <th>...</th>\n",
       "      <td>...</td>\n",
       "      <td>...</td>\n",
       "      <td>...</td>\n",
       "      <td>...</td>\n",
       "      <td>...</td>\n",
       "    </tr>\n",
       "    <tr>\n",
       "      <th>365</th>\n",
       "      <td>_2viQ_Qnc6-bMSjqyL1NKj57ROicCSJV5SwTrw-RFFA</td>\n",
       "      <td>Katie Mettam</td>\n",
       "      <td>2013-07-13T13:27:39.441000</td>\n",
       "      <td>I love this song because we sing it at Camp al...</td>\n",
       "      <td>0</td>\n",
       "    </tr>\n",
       "    <tr>\n",
       "      <th>366</th>\n",
       "      <td>_2viQ_Qnc6-pY-1yR6K2FhmC5i48-WuNx5CumlHLDAI</td>\n",
       "      <td>Sabina Pearson-Smith</td>\n",
       "      <td>2013-07-13T13:14:30.021000</td>\n",
       "      <td>I love this song for two reasons: 1.it is abou...</td>\n",
       "      <td>0</td>\n",
       "    </tr>\n",
       "    <tr>\n",
       "      <th>367</th>\n",
       "      <td>_2viQ_Qnc6_k_n_Bse9zVhJP8tJReZpo8uM2uZfnzDs</td>\n",
       "      <td>jeffrey jules</td>\n",
       "      <td>2013-07-13T12:09:31.188000</td>\n",
       "      <td>wow</td>\n",
       "      <td>0</td>\n",
       "    </tr>\n",
       "    <tr>\n",
       "      <th>368</th>\n",
       "      <td>_2viQ_Qnc6_yBt8UGMWyg3vh0PulTqcqyQtdE7d4Fl0</td>\n",
       "      <td>Aishlin Maciel</td>\n",
       "      <td>2013-07-13T11:17:52.308000</td>\n",
       "      <td>Shakira u are so wiredo</td>\n",
       "      <td>0</td>\n",
       "    </tr>\n",
       "    <tr>\n",
       "      <th>369</th>\n",
       "      <td>_2viQ_Qnc685RPw1aSa1tfrIuHXRvAQ2rPT9R06KTqA</td>\n",
       "      <td>Latin Bosch</td>\n",
       "      <td>2013-07-12T22:33:27.916000</td>\n",
       "      <td>Shakira is the best dancer</td>\n",
       "      <td>0</td>\n",
       "    </tr>\n",
       "  </tbody>\n",
       "</table>\n",
       "<p>1956 rows × 5 columns</p>\n",
       "</div>"
      ],
      "text/plain": [
       "                                      COMMENT_ID                AUTHOR  \\\n",
       "0              z12rwfnyyrbsefonb232i5ehdxzkjzjs2           Lisa Wellas   \n",
       "1            z130wpnwwnyuetxcn23xf5k5ynmkdpjrj04          jason graham   \n",
       "2              z13vsfqirtavjvu0t22ezrgzyorwxhpf3            Ajkal Khan   \n",
       "3            z12wjzc4eprnvja4304cgbbizuved35wxcs         Dakota Taylor   \n",
       "4              z13xjfr42z3uxdz2223gx5rrzs3dt5hna           Jihad Naser   \n",
       "..                                           ...                   ...   \n",
       "365  _2viQ_Qnc6-bMSjqyL1NKj57ROicCSJV5SwTrw-RFFA          Katie Mettam   \n",
       "366  _2viQ_Qnc6-pY-1yR6K2FhmC5i48-WuNx5CumlHLDAI  Sabina Pearson-Smith   \n",
       "367  _2viQ_Qnc6_k_n_Bse9zVhJP8tJReZpo8uM2uZfnzDs         jeffrey jules   \n",
       "368  _2viQ_Qnc6_yBt8UGMWyg3vh0PulTqcqyQtdE7d4Fl0        Aishlin Maciel   \n",
       "369  _2viQ_Qnc685RPw1aSa1tfrIuHXRvAQ2rPT9R06KTqA           Latin Bosch   \n",
       "\n",
       "                           DATE  \\\n",
       "0                           NaN   \n",
       "1    2015-05-29T02:26:10.652000   \n",
       "2                           NaN   \n",
       "3    2015-05-29T02:13:07.810000   \n",
       "4                           NaN   \n",
       "..                          ...   \n",
       "365  2013-07-13T13:27:39.441000   \n",
       "366  2013-07-13T13:14:30.021000   \n",
       "367  2013-07-13T12:09:31.188000   \n",
       "368  2013-07-13T11:17:52.308000   \n",
       "369  2013-07-12T22:33:27.916000   \n",
       "\n",
       "                                               CONTENT  CLASS  \n",
       "0            +447935454150 lovely girl talk to me xxx﻿      1  \n",
       "1      I always end up coming back to this song<br />﻿      0  \n",
       "2    my sister just received over 6,500 new <a rel=...      1  \n",
       "3                                                Cool﻿      0  \n",
       "4                       Hello I&#39;am from Palastine﻿      1  \n",
       "..                                                 ...    ...  \n",
       "365  I love this song because we sing it at Camp al...      0  \n",
       "366  I love this song for two reasons: 1.it is abou...      0  \n",
       "367                                                wow      0  \n",
       "368                            Shakira u are so wiredo      0  \n",
       "369                         Shakira is the best dancer      0  \n",
       "\n",
       "[1956 rows x 5 columns]"
      ]
     },
     "execution_count": 11,
     "metadata": {},
     "output_type": "execute_result"
    }
   ],
   "source": [
    "df =pd.concat([df_eminem, df_kp, df_lmfao, df_psy, df_shakira])\n",
    "df"
   ]
  },
  {
   "cell_type": "code",
   "execution_count": 12,
   "id": "773b9f63",
   "metadata": {
    "scrolled": true
   },
   "outputs": [
    {
     "data": {
      "text/plain": [
       "(1956, 5)"
      ]
     },
     "execution_count": 12,
     "metadata": {},
     "output_type": "execute_result"
    }
   ],
   "source": [
    "df.shape"
   ]
  },
  {
   "cell_type": "markdown",
   "id": "13355591",
   "metadata": {},
   "source": [
    "## Splitting the Data"
   ]
  },
  {
   "cell_type": "code",
   "execution_count": 13,
   "id": "e82bd7e2",
   "metadata": {},
   "outputs": [],
   "source": [
    "# input data\n",
    "X= df['CONTENT'].values \n",
    "y =df['CLASS'].values"
   ]
  },
  {
   "cell_type": "code",
   "execution_count": 14,
   "id": "dca9e788",
   "metadata": {},
   "outputs": [
    {
     "data": {
      "text/plain": [
       "array(['+447935454150 lovely girl talk to me xxx\\ufeff',\n",
       "       'I always end up coming back to this song<br />\\ufeff',\n",
       "       'my sister just received over 6,500 new <a rel=\"nofollow\" class=\"ot-hashtag\" href=\"https://plus.google.com/s/%23active\">#active</a> youtube views Right now. The only thing she used was pimpmyviews. com\\ufeff',\n",
       "       ..., 'wow', 'Shakira u are so wiredo',\n",
       "       'Shakira is the best dancer'], dtype=object)"
      ]
     },
     "execution_count": 14,
     "metadata": {},
     "output_type": "execute_result"
    }
   ],
   "source": [
    "X #array of messages"
   ]
  },
  {
   "cell_type": "code",
   "execution_count": 15,
   "id": "b2b5c29d",
   "metadata": {
    "scrolled": true
   },
   "outputs": [
    {
     "data": {
      "text/plain": [
       "(1956,)"
      ]
     },
     "execution_count": 15,
     "metadata": {},
     "output_type": "execute_result"
    }
   ],
   "source": [
    "X.shape"
   ]
  },
  {
   "cell_type": "code",
   "execution_count": 16,
   "id": "36a16da1",
   "metadata": {},
   "outputs": [
    {
     "data": {
      "text/plain": [
       "((1467,), (489,))"
      ]
     },
     "execution_count": 16,
     "metadata": {},
     "output_type": "execute_result"
    }
   ],
   "source": [
    "X_train, X_test, y_train,y_test = train_test_split(X,y, random_state =0)\n",
    "X_train.shape, X_test.shape"
   ]
  },
  {
   "cell_type": "markdown",
   "id": "a5eb9acc",
   "metadata": {},
   "source": [
    "# Feature Extraction\n",
    "##  Bag of Words  \n",
    "- The \"Bag of Words\" (BoW) is a common technique in natural language processing (NLP) for feature extraction from text data. It's a simple and effective way to represent text documents for machine learning and text analysis."
   ]
  },
  {
   "cell_type": "code",
   "execution_count": 17,
   "id": "94d08398",
   "metadata": {},
   "outputs": [],
   "source": [
    "vect = CountVectorizer().fit(X_train)\n",
    "X_train_bag =vect.transform(X_train)\n",
    "X_test_bag  = vect.transform(X_test)"
   ]
  },
  {
   "cell_type": "code",
   "execution_count": 20,
   "id": "832d2788",
   "metadata": {
    "scrolled": true
   },
   "outputs": [
    {
     "data": {
      "text/plain": [
       "(1467, 3733)"
      ]
     },
     "execution_count": 20,
     "metadata": {},
     "output_type": "execute_result"
    }
   ],
   "source": [
    "X_train_bag.shape #It was one column and after Countvectorizer we obtained 3733 columns"
   ]
  },
  {
   "cell_type": "code",
   "execution_count": 31,
   "id": "5199f773",
   "metadata": {},
   "outputs": [
    {
     "data": {
      "text/plain": [
       "(1956,)"
      ]
     },
     "execution_count": 31,
     "metadata": {},
     "output_type": "execute_result"
    }
   ],
   "source": [
    "X.shape"
   ]
  },
  {
   "cell_type": "code",
   "execution_count": 22,
   "id": "6779ff58",
   "metadata": {},
   "outputs": [
    {
     "data": {
      "text/plain": [
       "array(['00', '000', '02', ..., 'ｔｈｉｓ', 'ｕｓｒ', 'ｗｗｗ'], dtype=object)"
      ]
     },
     "execution_count": 22,
     "metadata": {},
     "output_type": "execute_result"
    }
   ],
   "source": [
    "# we can check the vocablaries\n",
    "vect.get_feature_names_out()"
   ]
  },
  {
   "cell_type": "markdown",
   "id": "41203fe3",
   "metadata": {},
   "source": [
    "### **XGBoost**"
   ]
  },
  {
   "cell_type": "code",
   "execution_count": 27,
   "id": "263291b1",
   "metadata": {},
   "outputs": [
    {
     "data": {
      "text/plain": [
       "array([0.93197279, 0.94557823, 0.94197952, 0.94539249, 0.94880546])"
      ]
     },
     "execution_count": 27,
     "metadata": {},
     "output_type": "execute_result"
    }
   ],
   "source": [
    "xgb =XGBClassifier()\n",
    "\n",
    "scores =cross_val_score(xgb, X_train_bag, y_train, cv=5)\n",
    "scores"
   ]
  },
  {
   "cell_type": "code",
   "execution_count": 25,
   "id": "ae2283ad",
   "metadata": {
    "scrolled": true
   },
   "outputs": [
    {
     "data": {
      "text/plain": [
       "0.9427456989621789"
      ]
     },
     "execution_count": 25,
     "metadata": {},
     "output_type": "execute_result"
    }
   ],
   "source": [
    "scores.mean()"
   ]
  },
  {
   "cell_type": "markdown",
   "id": "550bf362",
   "metadata": {},
   "source": [
    "- It looks model perform very well let's see Confusion Matrix"
   ]
  },
  {
   "cell_type": "markdown",
   "id": "4ccb3d47",
   "metadata": {},
   "source": [
    "### Confusion Matrix"
   ]
  },
  {
   "cell_type": "code",
   "execution_count": 30,
   "id": "5ecd8d39",
   "metadata": {},
   "outputs": [
    {
     "data": {
      "text/plain": [
       "750"
      ]
     },
     "execution_count": 30,
     "metadata": {},
     "output_type": "execute_result"
    }
   ],
   "source": [
    "sum(y_train)"
   ]
  },
  {
   "cell_type": "code",
   "execution_count": 57,
   "id": "11e8113e",
   "metadata": {
    "scrolled": false
   },
   "outputs": [
    {
     "data": {
      "text/plain": [
       "Text(0.5, 1.0, 'Confusion Matrix of Test Set')"
      ]
     },
     "execution_count": 57,
     "metadata": {},
     "output_type": "execute_result"
    },
    {
     "data": {
      "image/png": "[encoded data removed]",
      "text/plain": [
       "<Figure size 800x500 with 2 Axes>"
      ]
     },
     "metadata": {},
     "output_type": "display_data"
    }
   ],
   "source": [
    "plt.figure(figsize= (8,5))\n",
    "plt.subplot(1,2,1)\n",
    "plt.title('Confusion Matrix of Train Set')\n",
    "xgb =XGBClassifier()\n",
    "xgb.fit(X_train_bag,y_train)\n",
    "cm =ConfusionMatrix(xgb, classes=['Ham','Spam'])\n",
    "cm.fit(X_train_bag, y_train)\n",
    "cm.score(X_train_bag,y_train)\n",
    "plt.xlabel('Predicted Class')\n",
    "plt.ylabel('Actual Class')\n",
    "\n",
    "plt.subplot(1,2,2)\n",
    "xgb.fit(X_train_bag,y_train)\n",
    "cm =ConfusionMatrix(xgb, classes=['Ham','Spam'])\n",
    "cm.fit(X_test_bag, y_test)\n",
    "cm.score(X_test_bag,y_test)\n",
    "plt.title('Confusion Matrix of Test Set')"
   ]
  },
  {
   "cell_type": "code",
   "execution_count": 29,
   "id": "5cdc5807",
   "metadata": {},
   "outputs": [
    {
     "data": {
      "text/plain": [
       "0.9591002044989775"
      ]
     },
     "execution_count": 29,
     "metadata": {},
     "output_type": "execute_result"
    }
   ],
   "source": [
    "cm.score(X_test_bag, y_test)"
   ]
  },
  {
   "cell_type": "markdown",
   "id": "7f74b9db",
   "metadata": {},
   "source": [
    "### **Logistic Regression**"
   ]
  },
  {
   "cell_type": "code",
   "execution_count": 42,
   "id": "18e1fb2c",
   "metadata": {},
   "outputs": [
    {
     "data": {
      "text/plain": [
       "array([0.92176871, 0.95238095, 0.92832765, 0.95221843, 0.96245734])"
      ]
     },
     "execution_count": 42,
     "metadata": {},
     "output_type": "execute_result"
    }
   ],
   "source": [
    "log_reg =LogisticRegression(max_iter=1000)\n",
    "score =cross_val_score(log_reg,X_train_bag, y_train)\n",
    "score"
   ]
  },
  {
   "cell_type": "code",
   "execution_count": 43,
   "id": "b205115c",
   "metadata": {},
   "outputs": [
    {
     "data": {
      "text/plain": [
       "0.9434306145666456"
      ]
     },
     "execution_count": 43,
     "metadata": {},
     "output_type": "execute_result"
    }
   ],
   "source": [
    "score.mean()"
   ]
  },
  {
   "cell_type": "code",
   "execution_count": 53,
   "id": "1dd18742",
   "metadata": {},
   "outputs": [
    {
     "data": {
      "image/png": "[encoded data removed]",
      "text/plain": [
       "<Figure size 800x500 with 1 Axes>"
      ]
     },
     "metadata": {},
     "output_type": "display_data"
    }
   ],
   "source": [
    "import matplotlib.pyplot as plt\n",
    "plt.figure(figsize=(8, 5))\n",
    "log_reg.fit(X_train_bag,y_train)\n",
    "cm =ConfusionMatrix(log_reg, classes=['Ham','Spam'])\n",
    "cm.fit(X_test_bag, y_test)\n",
    "cm.score(X_test_bag,y_test)\n",
    "plt.ylabel('Actual Class')\n",
    "plt.xlabel('Predicted Class')\n",
    "plt.title('Confusion Matrix of Test Set');"
   ]
  },
  {
   "cell_type": "markdown",
   "id": "a9d29573",
   "metadata": {},
   "source": [
    "## Stopwords  \n",
    "-  Let's remove thee Stopwords from text data during preprocessing to reduce dimensionality and improve the efficiency and quality of text analysis. "
   ]
  },
  {
   "cell_type": "code",
   "execution_count": 58,
   "id": "61a35409",
   "metadata": {},
   "outputs": [],
   "source": [
    "vect = CountVectorizer(stop_words='english').fit(X_train)\n",
    "X_train_bag =vect.transform(X_train)\n",
    "X_test_bag  = vect.transform(X_test)"
   ]
  },
  {
   "cell_type": "code",
   "execution_count": 59,
   "id": "36af6275",
   "metadata": {},
   "outputs": [
    {
     "data": {
      "text/plain": [
       "(1467, 3512)"
      ]
     },
     "execution_count": 59,
     "metadata": {},
     "output_type": "execute_result"
    }
   ],
   "source": [
    "X_train_bag.shape"
   ]
  },
  {
   "cell_type": "markdown",
   "id": "914ef546",
   "metadata": {},
   "source": [
    "- It was 3733 we removed 221 words"
   ]
  },
  {
   "cell_type": "code",
   "execution_count": 60,
   "id": "66a197c3",
   "metadata": {
    "scrolled": true
   },
   "outputs": [
    {
     "data": {
      "text/plain": [
       "array(['00', '000', '02', ..., 'ｔｈｉｓ', 'ｕｓｒ', 'ｗｗｗ'], dtype=object)"
      ]
     },
     "execution_count": 60,
     "metadata": {},
     "output_type": "execute_result"
    }
   ],
   "source": [
    "vect.get_feature_names_out()"
   ]
  },
  {
   "cell_type": "markdown",
   "id": "35018997",
   "metadata": {},
   "source": [
    "### XGBoost"
   ]
  },
  {
   "cell_type": "code",
   "execution_count": 62,
   "id": "f4e1749c",
   "metadata": {},
   "outputs": [],
   "source": [
    "xgb =XGBClassifier()\n",
    "scores =cross_val_score(xgb, X_train_bag, y_train, cv=5)"
   ]
  },
  {
   "cell_type": "code",
   "execution_count": 63,
   "id": "de32ba57",
   "metadata": {},
   "outputs": [
    {
     "data": {
      "text/plain": [
       "array([0.91836735, 0.95238095, 0.93856655, 0.93174061, 0.93515358])"
      ]
     },
     "execution_count": 63,
     "metadata": {},
     "output_type": "execute_result"
    }
   ],
   "source": [
    "scores"
   ]
  },
  {
   "cell_type": "code",
   "execution_count": 64,
   "id": "5cfca17b",
   "metadata": {},
   "outputs": [
    {
     "data": {
      "text/plain": [
       "0.935241810034594"
      ]
     },
     "execution_count": 64,
     "metadata": {},
     "output_type": "execute_result"
    }
   ],
   "source": [
    "scores.mean()"
   ]
  },
  {
   "cell_type": "markdown",
   "id": "08c79858",
   "metadata": {},
   "source": [
    "## min_df"
   ]
  },
  {
   "cell_type": "code",
   "execution_count": 65,
   "id": "ff501437",
   "metadata": {},
   "outputs": [],
   "source": [
    "vect = CountVectorizer(min_df=10).fit(X_train) # word should be in at least in 10 documents\n",
    "X_train_bag =vect.transform(X_train)\n",
    "X_test_bag  = vect.transform(X_test)"
   ]
  },
  {
   "cell_type": "code",
   "execution_count": 67,
   "id": "a5c44dc0",
   "metadata": {},
   "outputs": [
    {
     "data": {
      "text/plain": [
       "(1467, 304)"
      ]
     },
     "execution_count": 67,
     "metadata": {},
     "output_type": "execute_result"
    }
   ],
   "source": [
    "X_train_bag.shape #effect is so much we have now 304 columns"
   ]
  },
  {
   "cell_type": "markdown",
   "id": "97c025c8",
   "metadata": {},
   "source": [
    "### XGBoost"
   ]
  },
  {
   "cell_type": "code",
   "execution_count": 68,
   "id": "ed79cc31",
   "metadata": {},
   "outputs": [
    {
     "data": {
      "text/plain": [
       "array([0.92517007, 0.93197279, 0.94539249, 0.94539249, 0.94880546])"
      ]
     },
     "execution_count": 68,
     "metadata": {},
     "output_type": "execute_result"
    }
   ],
   "source": [
    "xgb =XGBClassifier()\n",
    "scores =cross_val_score(xgb, X_train_bag, y_train, cv=5)\n",
    "scores"
   ]
  },
  {
   "cell_type": "code",
   "execution_count": 70,
   "id": "ac892e8c",
   "metadata": {},
   "outputs": [
    {
     "data": {
      "text/plain": [
       "0.9393466601657728"
      ]
     },
     "execution_count": 70,
     "metadata": {},
     "output_type": "execute_result"
    }
   ],
   "source": [
    "scores.mean()"
   ]
  },
  {
   "cell_type": "markdown",
   "id": "11b4d4e2",
   "metadata": {},
   "source": [
    "- Despite significantly reducing our vocabulary, we observed that the results remained consistent.   \n",
    "This indicates that essential words are still retained within the model. In other words, the model successfully filtered out less important words, showcasing the effectiveness of the 'min_df' parameter.\" \n"
   ]
  },
  {
   "cell_type": "markdown",
   "id": "d9412a1f",
   "metadata": {},
   "source": [
    "## max_df  \n",
    "- max number of doc"
   ]
  },
  {
   "cell_type": "code",
   "execution_count": 72,
   "id": "acf7e61c",
   "metadata": {},
   "outputs": [],
   "source": [
    "vect = CountVectorizer(max_df=0.01).fit(X_train)\n",
    "X_train_bag =vect.transform(X_train) # not too much differences for feature numbers it means there is no comman words\n",
    "X_test_bag  = vect.transform(X_test) "
   ]
  },
  {
   "cell_type": "code",
   "execution_count": 73,
   "id": "7063847e",
   "metadata": {
    "scrolled": true
   },
   "outputs": [
    {
     "data": {
      "text/plain": [
       "(1467, 3513)"
      ]
     },
     "execution_count": 73,
     "metadata": {},
     "output_type": "execute_result"
    }
   ],
   "source": [
    "X_train_bag.shape #effect is so much"
   ]
  },
  {
   "cell_type": "markdown",
   "id": "c825473f",
   "metadata": {},
   "source": [
    "- I played with the max_df parameter it seems there are not common words a lot."
   ]
  },
  {
   "cell_type": "markdown",
   "id": "76ab474f",
   "metadata": {},
   "source": [
    "### XGBoost "
   ]
  },
  {
   "cell_type": "code",
   "execution_count": 74,
   "id": "0acc379d",
   "metadata": {},
   "outputs": [
    {
     "data": {
      "text/plain": [
       "array([0.63605442, 0.67006803, 0.63481229, 0.65187713, 0.61774744])"
      ]
     },
     "execution_count": 74,
     "metadata": {},
     "output_type": "execute_result"
    }
   ],
   "source": [
    "xgb =XGBClassifier()\n",
    "scores =cross_val_score(xgb, X_train_bag, y_train, cv=5)\n",
    "scores"
   ]
  },
  {
   "cell_type": "code",
   "execution_count": 75,
   "id": "0d1b2627",
   "metadata": {
    "scrolled": true
   },
   "outputs": [
    {
     "data": {
      "text/plain": [
       "0.6421118618095704"
      ]
     },
     "execution_count": 75,
     "metadata": {},
     "output_type": "execute_result"
    }
   ],
   "source": [
    "scores.mean()"
   ]
  },
  {
   "cell_type": "markdown",
   "id": "b2b1e555",
   "metadata": {},
   "source": [
    "- We removed the common words and it effected the result in a negative way a lot.Because it removed the important words. So in this project we can observe the affect of min_df and max df."
   ]
  },
  {
   "cell_type": "markdown",
   "id": "dd7f1a93",
   "metadata": {},
   "source": [
    "# TF-IDF   \n",
    "- (Term Frequency-Inverse Document Frequency)  \n",
    "TF-IDF is a numerical statistic that reflects the importance of a word or term within a collection of documents or a corpus.  \n",
    "_TF(t, d)_ = (Number of times term t appears in document d) / (Total number of terms in document d)  \n",
    "_IDF(t)_ = log((Total number of documents) / (Number of documents containing term t))  \n",
    "**TF-IDF**=  TF x IDF"
   ]
  },
  {
   "cell_type": "code",
   "execution_count": 76,
   "id": "be703699",
   "metadata": {},
   "outputs": [],
   "source": [
    "tfidf = TfidfVectorizer(min_df=10).fit(X_train)\n",
    "X_train_tfidf =tfidf.transform(X_train)\n",
    "X_test_tfidf  = tfidf.transform(X_test) "
   ]
  },
  {
   "cell_type": "code",
   "execution_count": 77,
   "id": "3e909e09",
   "metadata": {},
   "outputs": [
    {
     "data": {
      "text/plain": [
       "(1467, 304)"
      ]
     },
     "execution_count": 77,
     "metadata": {},
     "output_type": "execute_result"
    }
   ],
   "source": [
    "X_train_tfidf.shape "
   ]
  },
  {
   "cell_type": "markdown",
   "id": "120d6ab4",
   "metadata": {},
   "source": [
    "### XGBoost"
   ]
  },
  {
   "cell_type": "code",
   "execution_count": 78,
   "id": "5780879e",
   "metadata": {},
   "outputs": [
    {
     "data": {
      "text/plain": [
       "array([0.94217687, 0.93197279, 0.92491468, 0.95904437, 0.93174061])"
      ]
     },
     "execution_count": 78,
     "metadata": {},
     "output_type": "execute_result"
    }
   ],
   "source": [
    "xgb =XGBClassifier()\n",
    "scores =cross_val_score(xgb, X_train_tfidf, y_train, cv=5)\n",
    "scores"
   ]
  },
  {
   "cell_type": "code",
   "execution_count": 80,
   "id": "dff04626",
   "metadata": {},
   "outputs": [
    {
     "data": {
      "text/plain": [
       "0.9379698637134035"
      ]
     },
     "execution_count": 80,
     "metadata": {},
     "output_type": "execute_result"
    }
   ],
   "source": [
    "scores.mean()"
   ]
  },
  {
   "cell_type": "markdown",
   "id": "2cd7fb05",
   "metadata": {},
   "source": [
    "# Feature importance  \n",
    "- Let's check the important features"
   ]
  },
  {
   "cell_type": "code",
   "execution_count": 81,
   "id": "60bea6ab",
   "metadata": {},
   "outputs": [],
   "source": [
    "vect = CountVectorizer(min_df=10).fit(X_train)\n",
    "X_train_bag =vect.transform(X_train)\n",
    "X_test_bag  = vect.transform(X_test)"
   ]
  },
  {
   "cell_type": "code",
   "execution_count": 82,
   "id": "32536479",
   "metadata": {},
   "outputs": [
    {
     "data": {
      "text/html": [
       "<style>#sk-container-id-1 {color: black;}#sk-container-id-1 pre{padding: 0;}#sk-container-id-1 div.sk-toggleable {background-color: white;}#sk-container-id-1 label.sk-toggleable__label {cursor: pointer;display: block;width: 100%;margin-bottom: 0;padding: 0.3em;box-sizing: border-box;text-align: center;}#sk-container-id-1 label.sk-toggleable__label-arrow:before {content: \"▸\";float: left;margin-right: 0.25em;color: #696969;}#sk-container-id-1 label.sk-toggleable__label-arrow:hover:before {color: black;}#sk-container-id-1 div.sk-estimator:hover label.sk-toggleable__label-arrow:before {color: black;}#sk-container-id-1 div.sk-toggleable__content {max-height: 0;max-width: 0;overflow: hidden;text-align: left;background-color: #f0f8ff;}#sk-container-id-1 div.sk-toggleable__content pre {margin: 0.2em;color: black;border-radius: 0.25em;background-color: #f0f8ff;}#sk-container-id-1 input.sk-toggleable__control:checked~div.sk-toggleable__content {max-height: 200px;max-width: 100%;overflow: auto;}#sk-container-id-1 input.sk-toggleable__control:checked~label.sk-toggleable__label-arrow:before {content: \"▾\";}#sk-container-id-1 div.sk-estimator input.sk-toggleable__control:checked~label.sk-toggleable__label {background-color: #d4ebff;}#sk-container-id-1 div.sk-label input.sk-toggleable__control:checked~label.sk-toggleable__label {background-color: #d4ebff;}#sk-container-id-1 input.sk-hidden--visually {border: 0;clip: rect(1px 1px 1px 1px);clip: rect(1px, 1px, 1px, 1px);height: 1px;margin: -1px;overflow: hidden;padding: 0;position: absolute;width: 1px;}#sk-container-id-1 div.sk-estimator {font-family: monospace;background-color: #f0f8ff;border: 1px dotted black;border-radius: 0.25em;box-sizing: border-box;margin-bottom: 0.5em;}#sk-container-id-1 div.sk-estimator:hover {background-color: #d4ebff;}#sk-container-id-1 div.sk-parallel-item::after {content: \"\";width: 100%;border-bottom: 1px solid gray;flex-grow: 1;}#sk-container-id-1 div.sk-label:hover label.sk-toggleable__label {background-color: #d4ebff;}#sk-container-id-1 div.sk-serial::before {content: \"\";position: absolute;border-left: 1px solid gray;box-sizing: border-box;top: 0;bottom: 0;left: 50%;z-index: 0;}#sk-container-id-1 div.sk-serial {display: flex;flex-direction: column;align-items: center;background-color: white;padding-right: 0.2em;padding-left: 0.2em;position: relative;}#sk-container-id-1 div.sk-item {position: relative;z-index: 1;}#sk-container-id-1 div.sk-parallel {display: flex;align-items: stretch;justify-content: center;background-color: white;position: relative;}#sk-container-id-1 div.sk-item::before, #sk-container-id-1 div.sk-parallel-item::before {content: \"\";position: absolute;border-left: 1px solid gray;box-sizing: border-box;top: 0;bottom: 0;left: 50%;z-index: -1;}#sk-container-id-1 div.sk-parallel-item {display: flex;flex-direction: column;z-index: 1;position: relative;background-color: white;}#sk-container-id-1 div.sk-parallel-item:first-child::after {align-self: flex-end;width: 50%;}#sk-container-id-1 div.sk-parallel-item:last-child::after {align-self: flex-start;width: 50%;}#sk-container-id-1 div.sk-parallel-item:only-child::after {width: 0;}#sk-container-id-1 div.sk-dashed-wrapped {border: 1px dashed gray;margin: 0 0.4em 0.5em 0.4em;box-sizing: border-box;padding-bottom: 0.4em;background-color: white;}#sk-container-id-1 div.sk-label label {font-family: monospace;font-weight: bold;display: inline-block;line-height: 1.2em;}#sk-container-id-1 div.sk-label-container {text-align: center;}#sk-container-id-1 div.sk-container {/* jupyter's `normalize.less` sets `[hidden] { display: none; }` but bootstrap.min.css set `[hidden] { display: none !important; }` so we also need the `!important` here to be able to override the default hidden behavior on the sphinx rendered scikit-learn.org. See: https://github.com/scikit-learn/scikit-learn/issues/21755 */display: inline-block !important;position: relative;}#sk-container-id-1 div.sk-text-repr-fallback {display: none;}</style><div id=\"sk-container-id-1\" class=\"sk-top-container\"><div class=\"sk-text-repr-fallback\"><pre>XGBClassifier(base_score=None, booster=None, callbacks=None,\n",
       "              colsample_bylevel=None, colsample_bynode=None,\n",
       "              colsample_bytree=None, device=None, early_stopping_rounds=None,\n",
       "              enable_categorical=False, eval_metric=None, feature_types=None,\n",
       "              gamma=None, grow_policy=None, importance_type=None,\n",
       "              interaction_constraints=None, learning_rate=None, max_bin=None,\n",
       "              max_cat_threshold=None, max_cat_to_onehot=None,\n",
       "              max_delta_step=None, max_depth=None, max_leaves=None,\n",
       "              min_child_weight=None, missing=nan, monotone_constraints=None,\n",
       "              multi_strategy=None, n_estimators=None, n_jobs=None,\n",
       "              num_parallel_tree=None, random_state=None, ...)</pre><b>In a Jupyter environment, please rerun this cell to show the HTML representation or trust the notebook. <br />On GitHub, the HTML representation is unable to render, please try loading this page with nbviewer.org.</b></div><div class=\"sk-container\" hidden><div class=\"sk-item\"><div class=\"sk-estimator sk-toggleable\"><input class=\"sk-toggleable__control sk-hidden--visually\" id=\"sk-estimator-id-1\" type=\"checkbox\" checked><label for=\"sk-estimator-id-1\" class=\"sk-toggleable__label sk-toggleable__label-arrow\">XGBClassifier</label><div class=\"sk-toggleable__content\"><pre>XGBClassifier(base_score=None, booster=None, callbacks=None,\n",
       "              colsample_bylevel=None, colsample_bynode=None,\n",
       "              colsample_bytree=None, device=None, early_stopping_rounds=None,\n",
       "              enable_categorical=False, eval_metric=None, feature_types=None,\n",
       "              gamma=None, grow_policy=None, importance_type=None,\n",
       "              interaction_constraints=None, learning_rate=None, max_bin=None,\n",
       "              max_cat_threshold=None, max_cat_to_onehot=None,\n",
       "              max_delta_step=None, max_depth=None, max_leaves=None,\n",
       "              min_child_weight=None, missing=nan, monotone_constraints=None,\n",
       "              multi_strategy=None, n_estimators=None, n_jobs=None,\n",
       "              num_parallel_tree=None, random_state=None, ...)</pre></div></div></div></div></div>"
      ],
      "text/plain": [
       "XGBClassifier(base_score=None, booster=None, callbacks=None,\n",
       "              colsample_bylevel=None, colsample_bynode=None,\n",
       "              colsample_bytree=None, device=None, early_stopping_rounds=None,\n",
       "              enable_categorical=False, eval_metric=None, feature_types=None,\n",
       "              gamma=None, grow_policy=None, importance_type=None,\n",
       "              interaction_constraints=None, learning_rate=None, max_bin=None,\n",
       "              max_cat_threshold=None, max_cat_to_onehot=None,\n",
       "              max_delta_step=None, max_depth=None, max_leaves=None,\n",
       "              min_child_weight=None, missing=nan, monotone_constraints=None,\n",
       "              multi_strategy=None, n_estimators=None, n_jobs=None,\n",
       "              num_parallel_tree=None, random_state=None, ...)"
      ]
     },
     "execution_count": 82,
     "metadata": {},
     "output_type": "execute_result"
    }
   ],
   "source": [
    "xgb =XGBClassifier()\n",
    "xgb.fit(X_train_bag,y_train)"
   ]
  },
  {
   "cell_type": "code",
   "execution_count": 83,
   "id": "9147ff35",
   "metadata": {},
   "outputs": [
    {
     "data": {
      "text/plain": [
       "(1467, 304)"
      ]
     },
     "execution_count": 83,
     "metadata": {},
     "output_type": "execute_result"
    }
   ],
   "source": [
    "X_train_bag.shape"
   ]
  },
  {
   "cell_type": "code",
   "execution_count": 84,
   "id": "28b34ce8",
   "metadata": {},
   "outputs": [],
   "source": [
    "f_imp = xgb.feature_importances_ # we have 304 features and each feature has importance"
   ]
  },
  {
   "cell_type": "code",
   "execution_count": 95,
   "id": "2dff9026",
   "metadata": {},
   "outputs": [
    {
     "data": {
      "text/plain": [
       "(304,)"
      ]
     },
     "execution_count": 95,
     "metadata": {},
     "output_type": "execute_result"
    }
   ],
   "source": [
    "f_names= vect.get_feature_names_out()\n",
    "f_names.shape"
   ]
  },
  {
   "cell_type": "code",
   "execution_count": 96,
   "id": "89fb6668",
   "metadata": {},
   "outputs": [
    {
     "data": {
      "text/plain": [
       "array(['000', '100', '15', '2014', '2015', '39', 'about', 'ago', 'all',\n",
       "       'also', 'am', 'amp', 'an', 'and', 'any', 'anyone', 'appreciate',\n",
       "       'are', 'as', 'at', 'awesome', 'back', 'be', 'beautiful', 'because',\n",
       "       'been', 'before', 'being', 'best', 'better', 'billion', 'boy',\n",
       "       'br', 'but', 'by', 'called', 'can', 'chance', 'channel', 'check',\n",
       "       'click', 'co', 'com', 'come', 'comment', 'comments', 'cool',\n",
       "       'could', 'cover', 'covers', 'crazy', 'dance', 'day', 'did', 'do',\n",
       "       'does', 'doing', 'don', 'dont', 'dream', 'earth', 'eminem',\n",
       "       'enjoy', 'even', 'ever', 'every', 'everyday', 'everyone',\n",
       "       'extraordinary', 'facebook', 'fans', 'feel', 'few', 'first',\n",
       "       'follow', 'for', 'fox', 'free', 'from', 'fuck', 'fucking', 'funny',\n",
       "       'gangnam', 'get', 'gets', 'getting', 'girl', 'give', 'go', 'god',\n",
       "       'good', 'google', 'got', 'great', 'gt', 'guy', 'guys', 'has',\n",
       "       'hate', 'have', 'he', 'hear', 'heard', 'hello', 'help', 'her',\n",
       "       'here', 'hey', 'hi', 'his', 'home', 'hope', 'how', 'href', 'http',\n",
       "       'https', 'id', 'if', 'im', 'in', 'is', 'it', 'its', 'just', 'katy',\n",
       "       'keep', 'know', 'leave', 'lie', 'life', 'like', 'likes', 'link',\n",
       "       'listen', 'little', 'live', 'll', 'lol', 'look', 'lot', 'love',\n",
       "       'lt', 'lyrics', 'made', 'make', 'making', 'man', 'many', 'maybe',\n",
       "       'me', 'mean', 'megan', 'million', 'moment', 'money', 'month',\n",
       "       'more', 'most', 'much', 'music', 'my', 'name', 'need', 'never',\n",
       "       'new', 'nice', 'no', 'not', 'nothing', 'now', 'of', 'off', 'old',\n",
       "       'omg', 'on', 'one', 'online', 'only', 'or', 'our', 'out', 'over',\n",
       "       'page', 'part', 'party', 'people', 'per', 'perry', 'person',\n",
       "       'play', 'playlist', 'please', 'plus', 'probably', 'psy', 'quot',\n",
       "       'rap', 'rapper', 're', 'reach', 'read', 'reading', 'real',\n",
       "       'really', 'ref', 'regret', 'right', 'rihanna', 'roar', 'rock',\n",
       "       'same', 'see', 'sexy', 'shakira', 'share', 'she', 'shit', 'should',\n",
       "       'simple', 'singer', 'so', 'some', 'someone', 'song', 'songs',\n",
       "       'soon', 'sorry', 'spam', 'start', 'started', 'still', 'stop',\n",
       "       'style', 'sub', 'subscribe', 'subscribers', 'such', 'support',\n",
       "       'take', 'than', 'thank', 'thanks', 'that', 'the', 'their', 'them',\n",
       "       'then', 'there', 'these', 'they', 'think', 'this', 'those',\n",
       "       'thumbs', 'tiger', 'time', 'to', 'today', 'too', 'true', 'trying',\n",
       "       'type', 'up', 'us', 've', 'very', 'video', 'videos', 'view',\n",
       "       'views', 'visit', 'waka', 'wanna', 'want', 'was', 'watch',\n",
       "       'watching', 'way', 'we', 'website', 'were', 'what', 'when',\n",
       "       'where', 'while', 'who', 'why', 'will', 'with', 'won', 'work',\n",
       "       'working', 'world', 'would', 'wow', 'www', 'xd', 'year', 'years',\n",
       "       'you', 'young', 'your', 'youtu', 'youtube'], dtype=object)"
      ]
     },
     "execution_count": 96,
     "metadata": {},
     "output_type": "execute_result"
    }
   ],
   "source": [
    "f_names"
   ]
  },
  {
   "cell_type": "code",
   "execution_count": 88,
   "id": "48a4d77b",
   "metadata": {
    "scrolled": true
   },
   "outputs": [
    {
     "data": {
      "text/plain": [
       "array([ 87,  60, 115, 117, 253, 154, 160, 104, 270,  44,  74, 235, 214,\n",
       "       191,  39, 295,  38, 234,  42, 180], dtype=int64)"
      ]
     },
     "execution_count": 88,
     "metadata": {},
     "output_type": "execute_result"
    }
   ],
   "source": [
    "np.argsort(f_imp)[-20:] # this is index, checking the first most important 20 "
   ]
  },
  {
   "cell_type": "code",
   "execution_count": 90,
   "id": "a08e2b21",
   "metadata": {},
   "outputs": [
    {
     "data": {
      "text/plain": [
       "array(['megan', 'lyrics', 'made', 'time', 'making', 'man', 'many',\n",
       "       'maybe', 'tiger', 'mean', 'youtu', 'lt', 'moment', 'month', 'most',\n",
       "       'much', 'these', 'name', 'need', 'never', 'nice', 'no', 'then',\n",
       "       'those', 'today', 'lot', 'lol', 'his', 'home', 'hope', 'start',\n",
       "       've', 'id', 'us', 'im', 'type', 'trying', 'true', 'keep', 'know',\n",
       "       'leave', 'lie', 'life', 'too', 'likes', 'link', 'listen', 'little',\n",
       "       'live', 'll', 'nothing', 'now', 'off', 'old', 'regret', 'right',\n",
       "       'rihanna', 'roar', 'support', 'same', 'such', 'sexy', 'sub',\n",
       "       'style', 'she', 'shit', 'should', 'simple', 'singer', 'stop',\n",
       "       'some', 'someone', 'still', 'songs', 'soon', 'sorry', 'spam',\n",
       "       'ref', 'hi', 'than', 'reading', 'omg', 'them', 'online', 'their',\n",
       "       'our', 'over', 'page', 'part', 'party', 'per', 'person', 'play',\n",
       "       'playlist', 'thanks', 'plus', 'probably', 'thank', 'quot', 'rap',\n",
       "       'rapper', 're', 'reach', 'read', 'real', 'hey', 'very', 'do',\n",
       "       'work', 'chance', 'won', 'will', 'click', 'why', 'while', 'come',\n",
       "       'where', 'were', 'cool', 'could', 'cover', 'covers', 'crazy',\n",
       "       'dance', 'day', 'did', 'here', 'does', 'doing', 'don', 'dont',\n",
       "       'called', 'by', 'boy', 'working', '100', '15', '2014', 'about',\n",
       "       'ago', 'also', 'am', 'young', 'an', 'years', 'any', 'dream',\n",
       "       'anyone', 'year', 'as', 'wow', 'awesome', 'beautiful', 'because',\n",
       "       'been', 'before', 'being', 'world', 'better', 'appreciate',\n",
       "       'website', 'started', 'was', 'hate', 'free', 'has', 'guys', 'fuck',\n",
       "       'guy', 'fucking', 'funny', 'fox', 'gt', 'great', 'gets', 'getting',\n",
       "       'girl', 'want', 'go', 'god', 'wanna', 'get', 'waka', 'got',\n",
       "       'first', 'hello', 'ever', 'every', 'everyday', 'heard', 'enjoy',\n",
       "       'way', 'we', 'everyone', 'facebook', 'hear', 'fans', 'feel', 'few',\n",
       "       'view', 'extraordinary', 'videos', 'only', 'her', 'million',\n",
       "       'just', 'but', 'think', 'one', 'br', 'of', 'video', 'have',\n",
       "       'gangnam', 'from', '2015', '39', 'people', 'more', 'back', 'that',\n",
       "       'look', 'there', 'would', 'eminem', 'in', 'how', 'its', 'your',\n",
       "       'the', 'youtube', 'not', 'so', 'and', 'music', 'who', 'good',\n",
       "       'all', 'see', 'or', 'it', 'are', 'this', 'like', 'best', 'you',\n",
       "       'comments', 'new', '000', 'really', 'they', 'with', 'even', 'xd',\n",
       "       'what', 'he', 'perry', 'when', 'amp', 'rock', 'watch', 'make',\n",
       "       'katy', 'can', 'is', 'psy', 'love', 'be', 'to', 'views', 'href',\n",
       "       'shakira', 'billion', 'at', 'take', 'for', 'me', 'up', 'song',\n",
       "       'co', 'watching', 'http', 'google', 'on', 'give', 'earth', 'https',\n",
       "       'if', 'thumbs', 'money', 'my', 'help', 'visit', 'comment',\n",
       "       'follow', 'subscribers', 'share', 'please', 'check', 'www',\n",
       "       'channel', 'subscribe', 'com', 'out'], dtype=object)"
      ]
     },
     "execution_count": 90,
     "metadata": {},
     "output_type": "execute_result"
    }
   ],
   "source": [
    "sorted_features =f_names[np.argsort(f_imp)]\n",
    "sorted_features"
   ]
  },
  {
   "cell_type": "code",
   "execution_count": 91,
   "id": "7a17cce2",
   "metadata": {
    "scrolled": true
   },
   "outputs": [
    {
     "data": {
      "text/plain": [
       "(0.0, 0.18223855)"
      ]
     },
     "execution_count": 91,
     "metadata": {},
     "output_type": "execute_result"
    }
   ],
   "source": [
    "f_imp[151], f_imp[180] #the less importance and the most importance "
   ]
  },
  {
   "cell_type": "code",
   "execution_count": 93,
   "id": "c25c3b40",
   "metadata": {},
   "outputs": [],
   "source": [
    "sorted_importance =f_imp[f_imp.argsort()]"
   ]
  },
  {
   "cell_type": "code",
   "execution_count": 94,
   "id": "0a494221",
   "metadata": {},
   "outputs": [
    {
     "data": {
      "image/png": "[encoded data removed]",
      "text/plain": [
       "<Figure size 800x550 with 1 Axes>"
      ]
     },
     "metadata": {},
     "output_type": "display_data"
    }
   ],
   "source": [
    "N= 20\n",
    "plt.xticks(rotation=60)\n",
    "plt.bar(sorted_features[-N:],sorted_importance[-N:]);"
   ]
  },
  {
   "cell_type": "markdown",
   "id": "9bc9d37d",
   "metadata": {},
   "source": [
    "# N_grams  \n",
    "- n_grams makes more consecutive words. In that way we are increasing the features."
   ]
  },
  {
   "cell_type": "code",
   "execution_count": 97,
   "id": "a29f7d0c",
   "metadata": {},
   "outputs": [],
   "source": [
    "vect = CountVectorizer(ngram_range =(1,4), min_df=5).fit(X_train)\n",
    "X_train_bag =vect.transform(X_train) \n",
    "X_test_bag  = vect.transform(X_test) "
   ]
  },
  {
   "cell_type": "code",
   "execution_count": 98,
   "id": "0bbf7db2",
   "metadata": {},
   "outputs": [
    {
     "data": {
      "text/plain": [
       "(1467, 1883)"
      ]
     },
     "execution_count": 98,
     "metadata": {},
     "output_type": "execute_result"
    }
   ],
   "source": [
    "X_train_bag.shape "
   ]
  },
  {
   "cell_type": "markdown",
   "id": "2e41d671",
   "metadata": {},
   "source": [
    "## XGBoost"
   ]
  },
  {
   "cell_type": "code",
   "execution_count": 99,
   "id": "ca04a6a1",
   "metadata": {},
   "outputs": [
    {
     "data": {
      "text/plain": [
       "array([0.92176871, 0.94217687, 0.93856655, 0.94539249, 0.94197952])"
      ]
     },
     "execution_count": 99,
     "metadata": {},
     "output_type": "execute_result"
    }
   ],
   "source": [
    "xgb =XGBClassifier()\n",
    "\n",
    "scores =cross_val_score(xgb, X_train_bag, y_train, cv=5)\n",
    "scores"
   ]
  },
  {
   "cell_type": "code",
   "execution_count": 100,
   "id": "8a66c8bc",
   "metadata": {
    "scrolled": true
   },
   "outputs": [
    {
     "data": {
      "text/plain": [
       "0.9379768289568388"
      ]
     },
     "execution_count": 100,
     "metadata": {},
     "output_type": "execute_result"
    }
   ],
   "source": [
    "scores.mean()"
   ]
  },
  {
   "cell_type": "markdown",
   "id": "fa19fdde",
   "metadata": {},
   "source": [
    "# Lemmatization    \n",
    "- Lemmatization is a text normalization technique that reduces words to their base or dictionary form. "
   ]
  },
  {
   "cell_type": "code",
   "execution_count": 101,
   "id": "c8113204",
   "metadata": {},
   "outputs": [],
   "source": [
    "import spacy"
   ]
  },
  {
   "cell_type": "code",
   "execution_count": 102,
   "id": "31bd0e7d",
   "metadata": {},
   "outputs": [],
   "source": [
    "npl = spacy.load('en_core_web_sm')"
   ]
  },
  {
   "cell_type": "code",
   "execution_count": 103,
   "id": "b7e9f9fb",
   "metadata": {},
   "outputs": [],
   "source": [
    "def lemma_tokenizer(text):\n",
    "    return [token.lemma_ for token in nlp(text)]"
   ]
  },
  {
   "cell_type": "code",
   "execution_count": 106,
   "id": "d870d958",
   "metadata": {},
   "outputs": [],
   "source": [
    "vect = CountVectorizer(tokenizer =lemma_tokenizer).fit(X_train)\n",
    "X_train_lemma =vect.transform(X_train) \n",
    "X_test_lemma  = vect.transform(X_test) "
   ]
  },
  {
   "cell_type": "code",
   "execution_count": 107,
   "id": "6f8499a6",
   "metadata": {},
   "outputs": [
    {
     "data": {
      "text/plain": [
       "(1467, 3843)"
      ]
     },
     "execution_count": 107,
     "metadata": {},
     "output_type": "execute_result"
    }
   ],
   "source": [
    "X_train_lemma.shape"
   ]
  },
  {
   "cell_type": "markdown",
   "id": "f1875862",
   "metadata": {},
   "source": [
    "## XGBoost"
   ]
  },
  {
   "cell_type": "code",
   "execution_count": 108,
   "id": "9f14a813",
   "metadata": {},
   "outputs": [
    {
     "data": {
      "text/plain": [
       "array([0.86734694, 0.87414966, 0.86348123, 0.92150171, 0.9112628 ])"
      ]
     },
     "execution_count": 108,
     "metadata": {},
     "output_type": "execute_result"
    }
   ],
   "source": [
    "xgb =XGBClassifier()\n",
    "\n",
    "scores =cross_val_score(xgb, X_train_lemma, y_train, cv=5)\n",
    "scores"
   ]
  },
  {
   "cell_type": "code",
   "execution_count": 109,
   "id": "26d26b8f",
   "metadata": {
    "scrolled": true
   },
   "outputs": [
    {
     "data": {
      "text/plain": [
       "0.8875484664855703"
      ]
     },
     "execution_count": 109,
     "metadata": {},
     "output_type": "execute_result"
    }
   ],
   "source": [
    "scores.mean()"
   ]
  },
  {
   "cell_type": "markdown",
   "id": "2826039f",
   "metadata": {},
   "source": [
    "- Lemmatization did not help the improve our score."
   ]
  },
  {
   "cell_type": "markdown",
   "id": "aaab2c49",
   "metadata": {},
   "source": [
    "# Stemming  \n",
    "- Stemming is another text normalization technique that reduces words to their root form\n",
    "- It checks suffixes. Need to import nltk (natural language took kit)"
   ]
  },
  {
   "cell_type": "code",
   "execution_count": 110,
   "id": "175771ca",
   "metadata": {},
   "outputs": [],
   "source": [
    "stemmer = nltk.stem.PorterStemmer()"
   ]
  },
  {
   "cell_type": "code",
   "execution_count": 111,
   "id": "9fc8acd4",
   "metadata": {},
   "outputs": [],
   "source": [
    "def stem_tokenizer(text):\n",
    "    return [stemmer.stem(token.norm_.lower()) for token in nlp(text)]"
   ]
  },
  {
   "cell_type": "code",
   "execution_count": 113,
   "id": "f86dc34e",
   "metadata": {},
   "outputs": [],
   "source": [
    "vect = CountVectorizer(tokenizer =stem_tokenizer).fit(X_train)\n",
    "X_train_stem = vect.transform(X_train) \n",
    "X_test_stem  = vect.transform(X_test) "
   ]
  },
  {
   "cell_type": "code",
   "execution_count": 114,
   "id": "152f0428",
   "metadata": {},
   "outputs": [
    {
     "data": {
      "text/plain": [
       "(1467, 3760)"
      ]
     },
     "execution_count": 114,
     "metadata": {},
     "output_type": "execute_result"
    }
   ],
   "source": [
    "X_train_stem.shape"
   ]
  },
  {
   "cell_type": "markdown",
   "id": "caff3c95",
   "metadata": {},
   "source": [
    "## XGBoost"
   ]
  },
  {
   "cell_type": "code",
   "execution_count": 115,
   "id": "1773c5bd",
   "metadata": {},
   "outputs": [
    {
     "data": {
      "text/plain": [
       "array([0.86054422, 0.86734694, 0.84300341, 0.9112628 , 0.91467577])"
      ]
     },
     "execution_count": 115,
     "metadata": {},
     "output_type": "execute_result"
    }
   ],
   "source": [
    "xgb =XGBClassifier()\n",
    "\n",
    "scores =cross_val_score(xgb, X_train_stem, y_train, cv=5)\n",
    "scores"
   ]
  },
  {
   "cell_type": "code",
   "execution_count": 116,
   "id": "736aacd9",
   "metadata": {},
   "outputs": [
    {
     "data": {
      "text/plain": [
       "0.8793666271969538"
      ]
     },
     "execution_count": 116,
     "metadata": {},
     "output_type": "execute_result"
    }
   ],
   "source": [
    "scores.mean()"
   ]
  },
  {
   "cell_type": "markdown",
   "id": "ac00a889",
   "metadata": {},
   "source": [
    "# LDA  \n",
    "- Latent Dirichlet Allocation   \n",
    "- It can be valuable for identifying topics in text data, which can help in spam detection.\n",
    "- Topic extraction"
   ]
  },
  {
   "cell_type": "code",
   "execution_count": 117,
   "id": "97ec093b",
   "metadata": {},
   "outputs": [],
   "source": [
    "from sklearn.decomposition import LatentDirichletAllocation as LDA"
   ]
  },
  {
   "cell_type": "code",
   "execution_count": 118,
   "id": "f79fa002",
   "metadata": {},
   "outputs": [],
   "source": [
    "vect = CountVectorizer(min_df=10).fit(X_train) #this part is data\n",
    "X_train_bag =vect.transform(X_train) \n",
    "X_test_bag = vect.transform(X_test) "
   ]
  },
  {
   "cell_type": "code",
   "execution_count": 121,
   "id": "6952bae8",
   "metadata": {},
   "outputs": [
    {
     "data": {
      "text/plain": [
       "(1467, 304)"
      ]
     },
     "execution_count": 121,
     "metadata": {},
     "output_type": "execute_result"
    }
   ],
   "source": [
    "X_train_bag.shape"
   ]
  },
  {
   "cell_type": "code",
   "execution_count": 122,
   "id": "6d68ad26",
   "metadata": {},
   "outputs": [],
   "source": [
    "lda =LDA(n_components =10, random_state = 0)"
   ]
  },
  {
   "cell_type": "code",
   "execution_count": 123,
   "id": "910c7715",
   "metadata": {},
   "outputs": [],
   "source": [
    "X_lda = lda.fit_transform(X_train_bag)"
   ]
  },
  {
   "cell_type": "markdown",
   "id": "dd7960bc",
   "metadata": {},
   "source": [
    "- These are going to be the new coordinate in the new bases which are the components\n",
    "- We choose 10 components it means there will be 10 topics."
   ]
  },
  {
   "cell_type": "code",
   "execution_count": 124,
   "id": "36a8ea27",
   "metadata": {},
   "outputs": [
    {
     "data": {
      "text/plain": [
       "(10, 304)"
      ]
     },
     "execution_count": 124,
     "metadata": {},
     "output_type": "execute_result"
    }
   ],
   "source": [
    "topics =lda.components_\n",
    "topics.shape"
   ]
  },
  {
   "cell_type": "markdown",
   "id": "8ab9ed5c",
   "metadata": {},
   "source": [
    "- It is going to be 10*304. Because each topic is a linear combination of the words. We have 304 words 10 components\n"
   ]
  },
  {
   "cell_type": "markdown",
   "id": "77250f34",
   "metadata": {},
   "source": [
    "- Let's check most commonly used words for each topics"
   ]
  },
  {
   "cell_type": "code",
   "execution_count": 125,
   "id": "43315ef6",
   "metadata": {
    "scrolled": true
   },
   "outputs": [
    {
     "data": {
      "text/plain": [
       "array(['000', '100', '15', '2014', '2015', '39', 'about', 'ago', 'all',\n",
       "       'also', 'am', 'amp', 'an', 'and', 'any', 'anyone', 'appreciate',\n",
       "       'are', 'as', 'at', 'awesome', 'back', 'be', 'beautiful', 'because',\n",
       "       'been', 'before', 'being', 'best', 'better', 'billion', 'boy',\n",
       "       'br', 'but', 'by', 'called', 'can', 'chance', 'channel', 'check',\n",
       "       'click', 'co', 'com', 'come', 'comment', 'comments', 'cool',\n",
       "       'could', 'cover', 'covers', 'crazy', 'dance', 'day', 'did', 'do',\n",
       "       'does', 'doing', 'don', 'dont', 'dream', 'earth', 'eminem',\n",
       "       'enjoy', 'even', 'ever', 'every', 'everyday', 'everyone',\n",
       "       'extraordinary', 'facebook', 'fans', 'feel', 'few', 'first',\n",
       "       'follow', 'for', 'fox', 'free', 'from', 'fuck', 'fucking', 'funny',\n",
       "       'gangnam', 'get', 'gets', 'getting', 'girl', 'give', 'go', 'god',\n",
       "       'good', 'google', 'got', 'great', 'gt', 'guy', 'guys', 'has',\n",
       "       'hate', 'have', 'he', 'hear', 'heard', 'hello', 'help', 'her',\n",
       "       'here', 'hey', 'hi', 'his', 'home', 'hope', 'how', 'href', 'http',\n",
       "       'https', 'id', 'if', 'im', 'in', 'is', 'it', 'its', 'just', 'katy',\n",
       "       'keep', 'know', 'leave', 'lie', 'life', 'like', 'likes', 'link',\n",
       "       'listen', 'little', 'live', 'll', 'lol', 'look', 'lot', 'love',\n",
       "       'lt', 'lyrics', 'made', 'make', 'making', 'man', 'many', 'maybe',\n",
       "       'me', 'mean', 'megan', 'million', 'moment', 'money', 'month',\n",
       "       'more', 'most', 'much', 'music', 'my', 'name', 'need', 'never',\n",
       "       'new', 'nice', 'no', 'not', 'nothing', 'now', 'of', 'off', 'old',\n",
       "       'omg', 'on', 'one', 'online', 'only', 'or', 'our', 'out', 'over',\n",
       "       'page', 'part', 'party', 'people', 'per', 'perry', 'person',\n",
       "       'play', 'playlist', 'please', 'plus', 'probably', 'psy', 'quot',\n",
       "       'rap', 'rapper', 're', 'reach', 'read', 'reading', 'real',\n",
       "       'really', 'ref', 'regret', 'right', 'rihanna', 'roar', 'rock',\n",
       "       'same', 'see', 'sexy', 'shakira', 'share', 'she', 'shit', 'should',\n",
       "       'simple', 'singer', 'so', 'some', 'someone', 'song', 'songs',\n",
       "       'soon', 'sorry', 'spam', 'start', 'started', 'still', 'stop',\n",
       "       'style', 'sub', 'subscribe', 'subscribers', 'such', 'support',\n",
       "       'take', 'than', 'thank', 'thanks', 'that', 'the', 'their', 'them',\n",
       "       'then', 'there', 'these', 'they', 'think', 'this', 'those',\n",
       "       'thumbs', 'tiger', 'time', 'to', 'today', 'too', 'true', 'trying',\n",
       "       'type', 'up', 'us', 've', 'very', 'video', 'videos', 'view',\n",
       "       'views', 'visit', 'waka', 'wanna', 'want', 'was', 'watch',\n",
       "       'watching', 'way', 'we', 'website', 'were', 'what', 'when',\n",
       "       'where', 'while', 'who', 'why', 'will', 'with', 'won', 'work',\n",
       "       'working', 'world', 'would', 'wow', 'www', 'xd', 'year', 'years',\n",
       "       'you', 'young', 'your', 'youtu', 'youtube'], dtype=object)"
      ]
     },
     "execution_count": 125,
     "metadata": {},
     "output_type": "execute_result"
    }
   ],
   "source": [
    "f_names= vect.get_feature_names_out()\n",
    "f_names"
   ]
  },
  {
   "cell_type": "code",
   "execution_count": 126,
   "id": "69f4616a",
   "metadata": {},
   "outputs": [
    {
     "data": {
      "text/plain": [
       "array([[ 68, 227, 168, ...,  13, 243, 299],\n",
       "       [ 68, 110, 218, ..., 243, 251, 223],\n",
       "       [ 68,  72, 227, ..., 262, 121,  32],\n",
       "       ...,\n",
       "       [ 68, 102, 153, ..., 242, 215, 120],\n",
       "       [ 68, 168, 218, ..., 256, 299, 234],\n",
       "       [102, 168, 153, ..., 295, 243,  42]], dtype=int64)"
      ]
     },
     "execution_count": 126,
     "metadata": {},
     "output_type": "execute_result"
    }
   ],
   "source": [
    "sorted_top = np.argsort(topics)\n",
    "sorted_top"
   ]
  },
  {
   "cell_type": "markdown",
   "id": "b620791e",
   "metadata": {},
   "source": [
    "## Importance  \n",
    "- We'll highlight the importance of LDA in uncovering underlying themes and topics in text data and its relevance to spam detection."
   ]
  },
  {
   "cell_type": "code",
   "execution_count": 127,
   "id": "35843ccc",
   "metadata": {},
   "outputs": [
    {
     "name": "stdout",
     "output_type": "stream",
     "text": [
      "Topic-0: ['your' 'of' 'for' 'to' 'katy' 'and' 'the' 'you']\n",
      "Topic-1: ['like' 'best' 'in' 'is' 'love' 'the' 'this' 'song']\n",
      "Topic-2: ['gt' 'million' 'like' 'share' 'rihanna' 'up' 'it' 'br']\n",
      "Topic-3: ['thanks' 'please' 'quot' 'channel' 'new' 'my' 'check' 'out']\n",
      "Topic-4: ['playlist' 'amp' 'check' 'out' 'video' 'this' 'youtube' 'on']\n",
      "Topic-5: ['we' 'be' 'views' 'and' 'just' 'of' 'the' 'to']\n",
      "Topic-6: ['so' 'it' 'the' 'my' '39' 'to' 'and' 'you']\n",
      "Topic-7: ['beautiful' 'music' 'this' 'her' 'are' 'that' 'she' 'is']\n",
      "Topic-8: ['it' 'if' 'and' 'me' 'my' 'to' 'you' 'subscribe']\n",
      "Topic-9: ['you' 'amp' 'and' 'https' 'http' 'www' 'the' 'com']\n"
     ]
    }
   ],
   "source": [
    "#important words in each topic\n",
    "for i in range(10):\n",
    "    sorted_top = np.argsort(topics[i])\n",
    "    print(f'Topic-{i}: {f_names[sorted_top[-8:]]}')"
   ]
  },
  {
   "cell_type": "code",
   "execution_count": 136,
   "id": "b625fa1b",
   "metadata": {},
   "outputs": [
    {
     "data": {
      "image/png": "[encoded data removed]",
      "text/plain": [
       "<Figure size 2000x2000 with 10 Axes>"
      ]
     },
     "metadata": {},
     "output_type": "display_data"
    }
   ],
   "source": [
    "plt.figure(figsize=(20,20))\n",
    "for i in range (10):\n",
    "    plt.subplot(6,2,i+1)\n",
    "    plt.title(f'Topic-{i}')\n",
    "    sorted_top = np.argsort(topics[i])\n",
    "    plt.bar(f_names[sorted_top[-10:]], topics[i][sorted_top[-10:]])\n",
    "    plt.xticks(rotation=90)\n",
    "plt.tight_layout()  \n",
    "plt.show()"
   ]
  },
  {
   "cell_type": "markdown",
   "id": "b5da33e8",
   "metadata": {},
   "source": [
    "# Conclusion"
   ]
  },
  {
   "cell_type": "markdown",
   "id": "9fbca119",
   "metadata": {},
   "source": [
    "- In this spam detection project, I applied various methods for analysis. During the feature extraction phase, I experimented with both reducing and increasing the number of features to observe their impact on accuracy. Notably, the results were consistently close when using the XGBoost Classifier, and our test score reached an impressive 0.9352. Furthermore, I assessed accuracy using a confusion matrix, and the results were very promising.\n",
    " However, when I applied lemmatization and stemming techniques and I noticed that the score deteriorated.  \n",
    " \n",
    "\n",
    "- In the Latent Dirichlet Allocation (LDA) analysis, I examined feature importance and aimed to gain insights. It was evident that the most important features aligned well with their respective topics. Let's attempt to establish a connection between the most significant words and these topics:\""
   ]
  },
  {
   "cell_type": "markdown",
   "id": "ec5f5512",
   "metadata": {},
   "source": [
    "**Topic-0** appears to be related to discussions about \"Katy\" (Katy Perry) and could be associated with comments that include personal pronouns, prepositions, and general words like \"and\" and \"the.\" It may not represent a specific theme\n",
    "\n",
    "**Topic-1** seems to be related to discussions about music and songs. It includes words like \"like,\" \"best,\" \"love,\" and \"song,\" which are common in discussions about music preferences and opinions.\n",
    "\n",
    "**Topic-2** appears to involve discussions related to numbers, metrics, and possibly references to Rihanna. Words like \"million,\" \"share,\" and \"up\" may be related to views and engagement with content.\n",
    "\n",
    "**Topic-3** seems to be related to interactions with YouTube channels. It includes words like \"thanks,\" \"please,\" \"channel,\" \"check,\" and \"out,\" which are commonly used when promoting or discussing YouTube channels and videos.\n",
    "\n",
    "**Topic-4** appears to be related to playlist creation and sharing on YouTube. It includes words like \"playlist,\" \"video,\" \"YouTube,\" and \"check,\" which are often used when organizing and sharing video content.\n",
    "\n",
    "**Topic-5**  might be related to general discussions about views and engagement. Words like \"we,\" \"be,\" \"views,\" \"and,\" and \"just\" are common in discussions about video performance.\n",
    "\n",
    "**Topic-6** may not have a clear theme based on the words provided. It includes common words like \"so,\" \"it,\" \"the,\" \"my,\" and \"you,\" which are not specific to a particular topic.\n",
    "\n",
    "**Topic-7** is related to discussions about music and may involve comments about the beauty and quality of music. It includes words like \"beautiful,\" \"music,\" \"she,\" and \"is.\"\n",
    "\n",
    "**Topic-8** is likely related to calls to action and engagement on YouTube. It includes words like \"subscribe,\" \"me,\" \"you,\" and \"it,\" which are often used to encourage user actions.\n",
    "\n",
    "**Topic-9** may involve comments related to external links, websites, and general interactions. Words like \"https,\" \"www,\" and \"com\" suggest references to URLs or web content."
   ]
  }
 ],
 "metadata": {
  "kernelspec": {
   "display_name": "Python 3 (ipykernel)",
   "language": "python",
   "name": "python3"
  },
  "language_info": {
   "codemirror_mode": {
    "name": "ipython",
    "version": 3
   },
   "file_extension": ".py",
   "mimetype": "text/x-python",
   "name": "python",
   "nbconvert_exporter": "python",
   "pygments_lexer": "ipython3",
   "version": "3.9.17"
  },
  "toc": {
   "base_numbering": 1,
   "nav_menu": {},
   "number_sections": true,
   "sideBar": true,
   "skip_h1_title": false,
   "title_cell": "Table of Contents",
   "title_sidebar": "Contents",
   "toc_cell": false,
   "toc_position": {
    "height": "calc(100% - 180px)",
    "left": "10px",
    "top": "150px",
    "width": "341.297px"
   },
   "toc_section_display": true,
   "toc_window_display": true
  },
  "varInspector": {
   "cols": {
    "lenName": 16,
    "lenType": 16,
    "lenVar": 40
   },
   "kernels_config": {
    "python": {
     "delete_cmd_postfix": "",
     "delete_cmd_prefix": "del ",
     "library": "var_list.py",
     "varRefreshCmd": "print(var_dic_list())"
    },
    "r": {
     "delete_cmd_postfix": ") ",
     "delete_cmd_prefix": "rm(",
     "library": "var_list.r",
     "varRefreshCmd": "cat(var_dic_list()) "
    }
   },
   "types_to_exclude": [
    "module",
    "function",
    "builtin_function_or_method",
    "instance",
    "_Feature"
   ],
   "window_display": false
  }
 },
 "nbformat": 4,
 "nbformat_minor": 5
}
